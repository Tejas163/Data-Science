{
  "nbformat": 4,
  "nbformat_minor": 0,
  "metadata": {
    "kernelspec": {
      "name": "python3",
      "display_name": "Python 3"
    },
    "language_info": {
      "codemirror_mode": {
        "name": "ipython",
        "version": 3
      },
      "file_extension": ".py",
      "mimetype": "text/x-python",
      "name": "python",
      "nbconvert_exporter": "python",
      "pygments_lexer": "ipython3",
      "version": "3.7.3"
    },
    "colab": {
      "name": "Copy of 2-svd-nmf-topic-modeling.ipynb",
      "provenance": [],
      "include_colab_link": true
    },
    "accelerator": "GPU"
  },
  "cells": [
    {
      "cell_type": "markdown",
      "metadata": {
        "id": "view-in-github",
        "colab_type": "text"
      },
      "source": [
        "<a href=\"https://colab.research.google.com/github/Tejas163/Data-Science/blob/master/svd_nmf_topic_modeling.ipynb\" target=\"_parent\"><img src=\"https://colab.research.google.com/assets/colab-badge.svg\" alt=\"Open In Colab\"/></a>"
      ]
    },
    {
      "cell_type": "markdown",
      "metadata": {
        "id": "shTUVO3cwqQC",
        "colab_type": "text"
      },
      "source": [
        "# Topic Modeling with NMF and SVD"
      ]
    },
    {
      "cell_type": "markdown",
      "metadata": {
        "id": "TUv8e-7awq1f",
        "colab_type": "text"
      },
      "source": [
        "## The problem"
      ]
    },
    {
      "cell_type": "markdown",
      "metadata": {
        "id": "zzYNNRIkwq3m",
        "colab_type": "text"
      },
      "source": [
        "Topic modeling is a fun way to start our study of NLP. We will use two popular **matrix decomposition techniques**. \n",
        "\n",
        "We start with a **term-document matrix**:\n",
        "\n",
        "<img src=\"https://github.com/fastai/course-nlp/blob/master/images/document_term.png?raw=1\" alt=\"term-document matrix\" style=\"width: 80%\"/>\n",
        "\n",
        "source: [Introduction to Information Retrieval](http://player.slideplayer.com/15/4528582/#)\n",
        "\n",
        "We can decompose this into one tall thin matrix times one wide short matrix (possibly with a diagonal matrix in between).\n",
        "\n",
        "Notice that this representation does not take into account word order or sentence structure.  It's an example of a **bag of words** approach."
      ]
    },
    {
      "cell_type": "markdown",
      "metadata": {
        "id": "GM8ETbvmwq9K",
        "colab_type": "text"
      },
      "source": [
        "Latent Semantic Analysis (LSA) uses Singular Value Decomposition (SVD)."
      ]
    },
    {
      "cell_type": "markdown",
      "metadata": {
        "id": "5j_IyyEhwq9Z",
        "colab_type": "text"
      },
      "source": [
        "### Motivation"
      ]
    },
    {
      "cell_type": "markdown",
      "metadata": {
        "id": "lr-J74iowq9m",
        "colab_type": "text"
      },
      "source": [
        "Consider the most extreme case - reconstructing the matrix using an outer product of two vectors. Clearly, in most cases we won't be able to reconstruct the matrix exactly. But if we had one vector with the relative frequency of each vocabulary word out of the total word count, and one with the average number of words per document, then that outer product would be as close as we can get.\n",
        "\n",
        "Now consider increasing that matrices to two columns and two rows. The optimal decomposition would now be to cluster the documents into two groups, each of which has as different a distribution of words as possible to each other, but as similar as possible amongst the documents in the cluster. We will call those two groups \"topics\". And we would cluster the words into two groups, based on those which most frequently appear in each of the topics. "
      ]
    },
    {
      "cell_type": "markdown",
      "metadata": {
        "id": "CrWXKjGMwrBR",
        "colab_type": "text"
      },
      "source": [
        "## Getting started"
      ]
    },
    {
      "cell_type": "markdown",
      "metadata": {
        "id": "3oSzLBVKwrFu",
        "colab_type": "text"
      },
      "source": [
        "We'll take a dataset of documents in several different categories, and find topics (consisting of groups of words) for them.  Knowing the actual categories helps us evaluate if the topics we find make sense.\n",
        "\n",
        "We will try this with two different matrix factorizations: **Singular Value Decomposition (SVD)** and **Non-negative Matrix Factorization (NMF)**"
      ]
    },
    {
      "cell_type": "code",
      "metadata": {
        "id": "sJcMajsuwrFz",
        "colab_type": "code",
        "colab": {}
      },
      "source": [
        "import numpy as np\n",
        "from sklearn.datasets import fetch_20newsgroups\n",
        "from sklearn import decomposition\n",
        "from scipy import linalg\n",
        "import matplotlib.pyplot as plt"
      ],
      "execution_count": 0,
      "outputs": []
    },
    {
      "cell_type": "code",
      "metadata": {
        "id": "ipde3RC_wrJm",
        "colab_type": "code",
        "colab": {}
      },
      "source": [
        "%matplotlib inline\n",
        "np.set_printoptions(suppress=True)"
      ],
      "execution_count": 0,
      "outputs": []
    },
    {
      "cell_type": "markdown",
      "metadata": {
        "id": "ty3WsZAqwrJw",
        "colab_type": "text"
      },
      "source": [
        "### Additional Resources"
      ]
    },
    {
      "cell_type": "markdown",
      "metadata": {
        "id": "sYLw9GkPwrQB",
        "colab_type": "text"
      },
      "source": [
        "- [Data source](http://scikit-learn.org/stable/datasets/twenty_newsgroups.html): Newsgroups are discussion groups on Usenet, which was popular in the 80s and 90s before the web really took off.  This dataset includes 18,000 newsgroups posts with 20 topics.\n",
        "- [Chris Manning's book chapter](https://nlp.stanford.edu/IR-book/pdf/18lsi.pdf) on matrix factorization and LSI \n",
        "- Scikit learn [truncated SVD LSI details](http://scikit-learn.org/stable/modules/decomposition.html#lsa)\n",
        "\n",
        "### Other Tutorials\n",
        "- [Scikit-Learn: Out-of-core classification of text documents](http://scikit-learn.org/stable/auto_examples/applications/plot_out_of_core_classification.html): uses [Reuters-21578](https://archive.ics.uci.edu/ml/datasets/reuters-21578+text+categorization+collection) dataset (Reuters articles labeled with ~100 categories), HashingVectorizer\n",
        "- [Text Analysis with Topic Models for the Humanities and Social Sciences](https://de.dariah.eu/tatom/index.html): uses [British and French Literature dataset](https://de.dariah.eu/tatom/datasets.html) of Jane Austen, Charlotte Bronte, Victor Hugo, and more"
      ]
    },
    {
      "cell_type": "markdown",
      "metadata": {
        "id": "nNxjnsQ8wrS5",
        "colab_type": "text"
      },
      "source": [
        "## Look at our data"
      ]
    },
    {
      "cell_type": "markdown",
      "metadata": {
        "id": "oZLI-LUAwrT3",
        "colab_type": "text"
      },
      "source": [
        "Scikit Learn comes with a number of built-in datasets, as well as loading utilities to load several standard external datasets. This is a [great resource](http://scikit-learn.org/stable/datasets/), and the datasets include Boston housing prices, face images, patches of forest, diabetes, breast cancer, and more.  We will be using the newsgroups dataset.\n",
        "\n",
        "Newsgroups are discussion groups on Usenet, which was popular in the 80s and 90s before the web really took off.  This dataset includes 18,000 newsgroups posts with 20 topics.  "
      ]
    },
    {
      "cell_type": "code",
      "metadata": {
        "id": "TV3FUr6rwrVU",
        "colab_type": "code",
        "colab": {
          "base_uri": "https://localhost:8080/",
          "height": 50
        },
        "outputId": "99f5ba90-4f17-4ae0-fe50-e25c50e47f46"
      },
      "source": [
        "categories = ['alt.atheism', 'talk.religion.misc', 'comp.graphics', 'sci.space']\n",
        "remove = ('headers', 'footers', 'quotes')\n",
        "newsgroups_train = fetch_20newsgroups(subset='train', categories=categories, remove=remove)\n",
        "newsgroups_test = fetch_20newsgroups(subset='test', categories=categories, remove=remove)"
      ],
      "execution_count": 3,
      "outputs": [
        {
          "output_type": "stream",
          "text": [
            "Downloading 20news dataset. This may take a few minutes.\n",
            "Downloading dataset from https://ndownloader.figshare.com/files/5975967 (14 MB)\n"
          ],
          "name": "stderr"
        }
      ]
    },
    {
      "cell_type": "code",
      "metadata": {
        "id": "XPq2J5VVwra0",
        "colab_type": "code",
        "outputId": "f972014e-9da5-4cf5-b3bd-3656ee408ada",
        "colab": {
          "base_uri": "https://localhost:8080/",
          "height": 34
        }
      },
      "source": [
        "newsgroups_train.filenames.shape, newsgroups_train.target.shape"
      ],
      "execution_count": 4,
      "outputs": [
        {
          "output_type": "execute_result",
          "data": {
            "text/plain": [
              "((2034,), (2034,))"
            ]
          },
          "metadata": {
            "tags": []
          },
          "execution_count": 4
        }
      ]
    },
    {
      "cell_type": "markdown",
      "metadata": {
        "id": "Rg-Sznwgwre8",
        "colab_type": "text"
      },
      "source": [
        "Let's look at some of the data.  Can you guess which category these messages are in?"
      ]
    },
    {
      "cell_type": "code",
      "metadata": {
        "id": "b8I8YFLQwrik",
        "colab_type": "code",
        "outputId": "89dcd20d-d742-4bc3-c700-52f65a552596",
        "colab": {
          "base_uri": "https://localhost:8080/",
          "height": 605
        }
      },
      "source": [
        "print(\"\\n\".join(newsgroups_train.data[:3]))"
      ],
      "execution_count": 5,
      "outputs": [
        {
          "output_type": "stream",
          "text": [
            "Hi,\n",
            "\n",
            "I've noticed that if you only save a model (with all your mapping planes\n",
            "positioned carefully) to a .3DS file that when you reload it after restarting\n",
            "3DS, they are given a default position and orientation.  But if you save\n",
            "to a .PRJ file their positions/orientation are preserved.  Does anyone\n",
            "know why this information is not stored in the .3DS file?  Nothing is\n",
            "explicitly said in the manual about saving texture rules in the .PRJ file. \n",
            "I'd like to be able to read the texture rule information, does anyone have \n",
            "the format for the .PRJ file?\n",
            "\n",
            "Is the .CEL file format available from somewhere?\n",
            "\n",
            "Rych\n",
            "\n",
            "\n",
            "Seems to be, barring evidence to the contrary, that Koresh was simply\n",
            "another deranged fanatic who thought it neccessary to take a whole bunch of\n",
            "folks with him, children and all, to satisfy his delusional mania. Jim\n",
            "Jones, circa 1993.\n",
            "\n",
            "\n",
            "Nope - fruitcakes like Koresh have been demonstrating such evil corruption\n",
            "for centuries.\n",
            "\n",
            " >In article <1993Apr19.020359.26996@sq.sq.com>, msb@sq.sq.com (Mark Brader) \n",
            "\n",
            "MB>                                                             So the\n",
            "MB> 1970 figure seems unlikely to actually be anything but a perijove.\n",
            "\n",
            "JG>Sorry, _perijoves_...I'm not used to talking this language.\n",
            "\n",
            "Couldn't we just say periapsis or apoapsis?\n",
            "\n",
            " \n"
          ],
          "name": "stdout"
        }
      ]
    },
    {
      "cell_type": "markdown",
      "metadata": {
        "id": "0IgobvoPwsIc",
        "colab_type": "text"
      },
      "source": [
        "hint: definition of *perijove* is the point in the orbit of a satellite of Jupiter nearest the planet's center "
      ]
    },
    {
      "cell_type": "code",
      "metadata": {
        "id": "L-L49mh9wsIn",
        "colab_type": "code",
        "outputId": "81826568-e14e-4ae4-dc62-6719cb95c5d4",
        "colab": {
          "base_uri": "https://localhost:8080/",
          "height": 34
        }
      },
      "source": [
        "np.array(newsgroups_train.target_names)[newsgroups_train.target[:3]]"
      ],
      "execution_count": 6,
      "outputs": [
        {
          "output_type": "execute_result",
          "data": {
            "text/plain": [
              "array(['comp.graphics', 'talk.religion.misc', 'sci.space'], dtype='<U18')"
            ]
          },
          "metadata": {
            "tags": []
          },
          "execution_count": 6
        }
      ]
    },
    {
      "cell_type": "markdown",
      "metadata": {
        "id": "H2W9-BgywsI-",
        "colab_type": "text"
      },
      "source": [
        "The target attribute is the integer index of the category."
      ]
    },
    {
      "cell_type": "code",
      "metadata": {
        "id": "oON_DkDHwsJE",
        "colab_type": "code",
        "outputId": "32bbcb5c-d9cf-46c0-f09a-1bb0b1b49971",
        "colab": {
          "base_uri": "https://localhost:8080/",
          "height": 34
        }
      },
      "source": [
        "newsgroups_train.target[:10]"
      ],
      "execution_count": 7,
      "outputs": [
        {
          "output_type": "execute_result",
          "data": {
            "text/plain": [
              "array([1, 3, 2, 0, 2, 0, 2, 1, 2, 1])"
            ]
          },
          "metadata": {
            "tags": []
          },
          "execution_count": 7
        }
      ]
    },
    {
      "cell_type": "code",
      "metadata": {
        "id": "Eo4UZ6wUwsUl",
        "colab_type": "code",
        "colab": {}
      },
      "source": [
        "num_topics, num_top_words = 6, 8"
      ],
      "execution_count": 0,
      "outputs": []
    },
    {
      "cell_type": "markdown",
      "metadata": {
        "id": "6oUMW5lPwsU5",
        "colab_type": "text"
      },
      "source": [
        "## Stop words, stemming, lemmatization"
      ]
    },
    {
      "cell_type": "markdown",
      "metadata": {
        "id": "0X4FHuM-wsd3",
        "colab_type": "text"
      },
      "source": [
        "### Stop words"
      ]
    },
    {
      "cell_type": "markdown",
      "metadata": {
        "id": "MUSO1HN0wsd9",
        "colab_type": "text"
      },
      "source": [
        "From [Intro to Information Retrieval](https://nlp.stanford.edu/IR-book/html/htmledition/dropping-common-terms-stop-words-1.html):\n",
        "\n",
        "*Some extremely common words which would appear to be of little value in helping select documents matching a user need are excluded from the vocabulary entirely. These words are called stop words.*\n",
        "\n",
        "*The general trend in IR systems over time has been from standard use of quite large stop lists (200-300 terms) to very small stop lists (7-12 terms) to no stop list whatsoever. Web search engines generally do not use stop lists.*"
      ]
    },
    {
      "cell_type": "markdown",
      "metadata": {
        "id": "ixX81JoDwsh8",
        "colab_type": "text"
      },
      "source": [
        "#### NLTK"
      ]
    },
    {
      "cell_type": "code",
      "metadata": {
        "id": "ZEmuuz6twsld",
        "colab_type": "code",
        "outputId": "822195c8-376d-4372-ea20-1e89873ea81f",
        "colab": {
          "base_uri": "https://localhost:8080/",
          "height": 406
        }
      },
      "source": [
        "from sklearn.feature_extraction import stop_words\n",
        "\n",
        "sorted(list(stop_words.ENGLISH_STOP_WORDS))[:20]"
      ],
      "execution_count": 9,
      "outputs": [
        {
          "output_type": "stream",
          "text": [
            "/usr/local/lib/python3.6/dist-packages/sklearn/utils/deprecation.py:144: FutureWarning: The sklearn.feature_extraction.stop_words module is  deprecated in version 0.22 and will be removed in version 0.24. The corresponding classes / functions should instead be imported from sklearn.feature_extraction.text. Anything that cannot be imported from sklearn.feature_extraction.text is now part of the private API.\n",
            "  warnings.warn(message, FutureWarning)\n"
          ],
          "name": "stderr"
        },
        {
          "output_type": "execute_result",
          "data": {
            "text/plain": [
              "['a',\n",
              " 'about',\n",
              " 'above',\n",
              " 'across',\n",
              " 'after',\n",
              " 'afterwards',\n",
              " 'again',\n",
              " 'against',\n",
              " 'all',\n",
              " 'almost',\n",
              " 'alone',\n",
              " 'along',\n",
              " 'already',\n",
              " 'also',\n",
              " 'although',\n",
              " 'always',\n",
              " 'am',\n",
              " 'among',\n",
              " 'amongst',\n",
              " 'amoungst']"
            ]
          },
          "metadata": {
            "tags": []
          },
          "execution_count": 9
        }
      ]
    },
    {
      "cell_type": "markdown",
      "metadata": {
        "id": "NBZkASzmwsyb",
        "colab_type": "text"
      },
      "source": [
        "There is no single universal list of stop words."
      ]
    },
    {
      "cell_type": "markdown",
      "metadata": {
        "id": "17Lgj6nBwsyd",
        "colab_type": "text"
      },
      "source": [
        "### Stemming and Lemmatization"
      ]
    },
    {
      "cell_type": "markdown",
      "metadata": {
        "id": "TrHKsuQjwsyh",
        "colab_type": "text"
      },
      "source": [
        "from [Information Retrieval](https://nlp.stanford.edu/IR-book/html/htmledition/stemming-and-lemmatization-1.html) textbook:\n",
        "\n",
        "Are the below words the same?\n",
        "\n",
        "*organize, organizes, and organizing*\n",
        "\n",
        "*democracy, democratic, and democratization*"
      ]
    },
    {
      "cell_type": "markdown",
      "metadata": {
        "id": "WfuDJSuiwsym",
        "colab_type": "text"
      },
      "source": [
        "Stemming and Lemmatization both generate the root form of the words. \n",
        "\n",
        "Lemmatization uses the rules about a language.  The resulting tokens are all actual words\n",
        "\n",
        "\"Stemming is the poor-man’s lemmatization.\" (Noah Smith, 2011) Stemming is a crude heuristic that chops the ends off of words.  The resulting tokens may not be actual words. Stemming is faster."
      ]
    },
    {
      "cell_type": "code",
      "metadata": {
        "id": "OgTNj-axwsys",
        "colab_type": "code",
        "outputId": "cd95fdfd-ba65-4878-bb09-870383b1eb51",
        "colab": {
          "base_uri": "https://localhost:8080/",
          "height": 67
        }
      },
      "source": [
        "import nltk\n",
        "nltk.download('wordnet')"
      ],
      "execution_count": 10,
      "outputs": [
        {
          "output_type": "stream",
          "text": [
            "[nltk_data] Downloading package wordnet to /root/nltk_data...\n",
            "[nltk_data]   Unzipping corpora/wordnet.zip.\n"
          ],
          "name": "stdout"
        },
        {
          "output_type": "execute_result",
          "data": {
            "text/plain": [
              "True"
            ]
          },
          "metadata": {
            "tags": []
          },
          "execution_count": 10
        }
      ]
    },
    {
      "cell_type": "code",
      "metadata": {
        "id": "gwzwgv34wsy3",
        "colab_type": "code",
        "colab": {}
      },
      "source": [
        "from nltk import stem"
      ],
      "execution_count": 0,
      "outputs": []
    },
    {
      "cell_type": "code",
      "metadata": {
        "id": "pPzp7CJtwszn",
        "colab_type": "code",
        "colab": {}
      },
      "source": [
        "wnl = stem.WordNetLemmatizer()\n",
        "porter = stem.porter.PorterStemmer()"
      ],
      "execution_count": 0,
      "outputs": []
    },
    {
      "cell_type": "code",
      "metadata": {
        "id": "BY4Lztm3wtS0",
        "colab_type": "code",
        "colab": {}
      },
      "source": [
        "word_list = ['feet', 'foot', 'foots', 'footing']"
      ],
      "execution_count": 0,
      "outputs": []
    },
    {
      "cell_type": "code",
      "metadata": {
        "id": "OGBbqyYewtyn",
        "colab_type": "code",
        "outputId": "176bd882-dc8c-4683-b424-1b81ac35919d",
        "colab": {
          "base_uri": "https://localhost:8080/",
          "height": 34
        }
      },
      "source": [
        "[wnl.lemmatize(word) for word in word_list]"
      ],
      "execution_count": 14,
      "outputs": [
        {
          "output_type": "execute_result",
          "data": {
            "text/plain": [
              "['foot', 'foot', 'foot', 'footing']"
            ]
          },
          "metadata": {
            "tags": []
          },
          "execution_count": 14
        }
      ]
    },
    {
      "cell_type": "code",
      "metadata": {
        "id": "Yls8rzjswt54",
        "colab_type": "code",
        "outputId": "8079c3fe-dd9d-43f1-8552-810b45fed029",
        "colab": {
          "base_uri": "https://localhost:8080/",
          "height": 34
        }
      },
      "source": [
        "[porter.stem(word) for word in word_list]"
      ],
      "execution_count": 15,
      "outputs": [
        {
          "output_type": "execute_result",
          "data": {
            "text/plain": [
              "['feet', 'foot', 'foot', 'foot']"
            ]
          },
          "metadata": {
            "tags": []
          },
          "execution_count": 15
        }
      ]
    },
    {
      "cell_type": "code",
      "metadata": {
        "id": "guCRJHyEAcvp",
        "colab_type": "code",
        "colab": {}
      },
      "source": [
        "w_list=['fly','flies','flying']\n",
        "w1_list=['organize','organizes','organizing']"
      ],
      "execution_count": 0,
      "outputs": []
    },
    {
      "cell_type": "code",
      "metadata": {
        "id": "6VJ0DGMdAj8Y",
        "colab_type": "code",
        "colab": {
          "base_uri": "https://localhost:8080/",
          "height": 34
        },
        "outputId": "989d1338-6b33-4125-f2c0-21eaa6737209"
      },
      "source": [
        "[wnl.lemmatize(word) for word in w_list]"
      ],
      "execution_count": 17,
      "outputs": [
        {
          "output_type": "execute_result",
          "data": {
            "text/plain": [
              "['fly', 'fly', 'flying']"
            ]
          },
          "metadata": {
            "tags": []
          },
          "execution_count": 17
        }
      ]
    },
    {
      "cell_type": "code",
      "metadata": {
        "id": "yNk6jiecAq1T",
        "colab_type": "code",
        "colab": {
          "base_uri": "https://localhost:8080/",
          "height": 34
        },
        "outputId": "54a077de-3488-4f4b-da6f-9642c566e4d6"
      },
      "source": [
        "[porter.stem(word) for word in w_list]"
      ],
      "execution_count": 18,
      "outputs": [
        {
          "output_type": "execute_result",
          "data": {
            "text/plain": [
              "['fli', 'fli', 'fli']"
            ]
          },
          "metadata": {
            "tags": []
          },
          "execution_count": 18
        }
      ]
    },
    {
      "cell_type": "code",
      "metadata": {
        "id": "GZfGtchVA9Ef",
        "colab_type": "code",
        "colab": {
          "base_uri": "https://localhost:8080/",
          "height": 34
        },
        "outputId": "1f14738f-019c-42c7-ed50-fea39e3d2cd0"
      },
      "source": [
        "[wnl.lemmatize(word) for word in w1_list]"
      ],
      "execution_count": 20,
      "outputs": [
        {
          "output_type": "execute_result",
          "data": {
            "text/plain": [
              "['organize', 'organizes', 'organizing']"
            ]
          },
          "metadata": {
            "tags": []
          },
          "execution_count": 20
        }
      ]
    },
    {
      "cell_type": "code",
      "metadata": {
        "id": "7rHJ6lcEBEzj",
        "colab_type": "code",
        "colab": {
          "base_uri": "https://localhost:8080/",
          "height": 34
        },
        "outputId": "be307281-259e-4d1d-8053-0a661afb799d"
      },
      "source": [
        "[porter.stem(word) for word in w1_list]"
      ],
      "execution_count": 21,
      "outputs": [
        {
          "output_type": "execute_result",
          "data": {
            "text/plain": [
              "['organ', 'organ', 'organ']"
            ]
          },
          "metadata": {
            "tags": []
          },
          "execution_count": 21
        }
      ]
    },
    {
      "cell_type": "markdown",
      "metadata": {
        "id": "JoJNghIwwt-p",
        "colab_type": "text"
      },
      "source": [
        "Your turn!  Now, try lemmatizing and stemming the following collections of words:\n",
        "\n",
        "- fly, flies, flying\n",
        "- organize, organizes, organizing\n",
        "- universe, university"
      ]
    },
    {
      "cell_type": "markdown",
      "metadata": {
        "id": "MqwC4wV1wt-1",
        "colab_type": "text"
      },
      "source": [
        "fastai/course-nlp"
      ]
    },
    {
      "cell_type": "markdown",
      "metadata": {
        "id": "k76do5sWwt_K",
        "colab_type": "text"
      },
      "source": [
        "Stemming and lemmatization are language dependent.  Languages with more complex morphologies may show bigger benefits.  For example, Sanskrit has a very [large number of verb forms](https://en.wikipedia.org/wiki/Sanskrit_verbs). "
      ]
    },
    {
      "cell_type": "markdown",
      "metadata": {
        "id": "j9Qx2tD1wt_W",
        "colab_type": "text"
      },
      "source": [
        "### Spacy"
      ]
    },
    {
      "cell_type": "markdown",
      "metadata": {
        "id": "-3KQvd6Bwt_a",
        "colab_type": "text"
      },
      "source": [
        "Stemming and lemmatization are implementation dependent."
      ]
    },
    {
      "cell_type": "markdown",
      "metadata": {
        "id": "d1VfIhIywt_n",
        "colab_type": "text"
      },
      "source": [
        "Spacy is a very modern & fast nlp library. Spacy is opinionated, in that it typically offers one highly optimized way to do something (whereas nltk offers a huge variety of ways, although they are usually not as optimized).\n",
        "\n",
        "You will need to install it.\n",
        "\n",
        "if you use conda:\n",
        "```\n",
        "conda install -c conda-forge spacy\n",
        "```\n",
        "if you use pip:\n",
        "```\n",
        "pip install -U spacy\n",
        "```\n",
        "\n",
        "You will then need to download the English model:\n",
        "```\n",
        "spacy -m download en_core_web_sm\n",
        "```"
      ]
    },
    {
      "cell_type": "code",
      "metadata": {
        "id": "kyqesrz-wuC9",
        "colab_type": "code",
        "colab": {}
      },
      "source": [
        "import spacy"
      ],
      "execution_count": 0,
      "outputs": []
    },
    {
      "cell_type": "code",
      "metadata": {
        "id": "mOr6vGr3wuZa",
        "colab_type": "code",
        "colab": {}
      },
      "source": [
        "from spacy.lemmatizer import Lemmatizer\n",
        "lemmatizer = Lemmatizer()"
      ],
      "execution_count": 0,
      "outputs": []
    },
    {
      "cell_type": "code",
      "metadata": {
        "id": "zj3GZw_7wudU",
        "colab_type": "code",
        "outputId": "8b96d39d-8300-4e3e-9a78-6dde464e3ad1",
        "colab": {
          "base_uri": "https://localhost:8080/",
          "height": 34
        }
      },
      "source": [
        "[lemmatizer.lookup(word) for word in word_list]"
      ],
      "execution_count": 25,
      "outputs": [
        {
          "output_type": "execute_result",
          "data": {
            "text/plain": [
              "['feet', 'foot', 'foots', 'footing']"
            ]
          },
          "metadata": {
            "tags": []
          },
          "execution_count": 25
        }
      ]
    },
    {
      "cell_type": "markdown",
      "metadata": {
        "id": "1bCnEj03wu35",
        "colab_type": "text"
      },
      "source": [
        "Spacy doesn't offer a stemmer (since lemmatization is considered better-- this is an example of being opinionated!)"
      ]
    },
    {
      "cell_type": "markdown",
      "metadata": {
        "id": "b6XhWVgGwu39",
        "colab_type": "text"
      },
      "source": [
        "Stop words vary from library to library"
      ]
    },
    {
      "cell_type": "code",
      "metadata": {
        "id": "C38ZTijuwu3_",
        "colab_type": "code",
        "colab": {}
      },
      "source": [
        "nlp = spacy.load(\"en_core_web_sm\")"
      ],
      "execution_count": 0,
      "outputs": []
    },
    {
      "cell_type": "code",
      "metadata": {
        "id": "rRb1aTf7wvEU",
        "colab_type": "code",
        "outputId": "9d28f53c-77bb-4e8b-ca24-7e03f7d7c81d",
        "colab": {
          "base_uri": "https://localhost:8080/",
          "height": 353
        }
      },
      "source": [
        "sorted(list(nlp.Defaults.stop_words))[:20]"
      ],
      "execution_count": 27,
      "outputs": [
        {
          "output_type": "execute_result",
          "data": {
            "text/plain": [
              "[\"'d\",\n",
              " \"'ll\",\n",
              " \"'m\",\n",
              " \"'re\",\n",
              " \"'s\",\n",
              " \"'ve\",\n",
              " 'a',\n",
              " 'about',\n",
              " 'above',\n",
              " 'across',\n",
              " 'after',\n",
              " 'afterwards',\n",
              " 'again',\n",
              " 'against',\n",
              " 'all',\n",
              " 'almost',\n",
              " 'alone',\n",
              " 'along',\n",
              " 'already',\n",
              " 'also']"
            ]
          },
          "metadata": {
            "tags": []
          },
          "execution_count": 27
        }
      ]
    },
    {
      "cell_type": "code",
      "metadata": {
        "id": "N5mqAipdCUAE",
        "colab_type": "code",
        "colab": {}
      },
      "source": [
        ""
      ],
      "execution_count": 0,
      "outputs": []
    },
    {
      "cell_type": "markdown",
      "metadata": {
        "id": "5kBcUpSuwvNR",
        "colab_type": "text"
      },
      "source": [
        "#### Exercise: What stop words appear in spacy but not in sklearn?"
      ]
    },
    {
      "cell_type": "code",
      "metadata": {
        "id": "su_jr6ZxwvNZ",
        "colab_type": "code",
        "outputId": "7e980163-fdca-4fb1-cf13-40fc148968f9",
        "colab": {
          "base_uri": "https://localhost:8080/",
          "height": 353
        }
      },
      "source": [
        "#Exercise:\n",
        "\n",
        "nlp = spacy.load(\"en_core_web_sm\")\n",
        "sorted(list(nlp.Defaults.stop_words))[:20]"
      ],
      "execution_count": 28,
      "outputs": [
        {
          "output_type": "execute_result",
          "data": {
            "text/plain": [
              "[\"'d\",\n",
              " \"'ll\",\n",
              " \"'m\",\n",
              " \"'re\",\n",
              " \"'s\",\n",
              " \"'ve\",\n",
              " 'a',\n",
              " 'about',\n",
              " 'above',\n",
              " 'across',\n",
              " 'after',\n",
              " 'afterwards',\n",
              " 'again',\n",
              " 'against',\n",
              " 'all',\n",
              " 'almost',\n",
              " 'alone',\n",
              " 'along',\n",
              " 'already',\n",
              " 'also']"
            ]
          },
          "metadata": {
            "tags": []
          },
          "execution_count": 28
        }
      ]
    },
    {
      "cell_type": "markdown",
      "metadata": {
        "heading_collapsed": true,
        "id": "8g_MBpkXwvNp",
        "colab_type": "text"
      },
      "source": [
        "#### Exercise: And what stop words are in sklearn but not spacy?"
      ]
    },
    {
      "cell_type": "code",
      "metadata": {
        "hidden": true,
        "id": "l3fFqSIuwvN4",
        "colab_type": "code",
        "outputId": "f3dc2a61-c02f-4b94-9e9d-827ee697672d",
        "colab": {}
      },
      "source": [
        "#Exercise:\n"
      ],
      "execution_count": 0,
      "outputs": [
        {
          "output_type": "execute_result",
          "data": {
            "text/plain": [
              "frozenset({'amoungst',\n",
              "           'bill',\n",
              "           'cant',\n",
              "           'co',\n",
              "           'con',\n",
              "           'couldnt',\n",
              "           'cry',\n",
              "           'de',\n",
              "           'describe',\n",
              "           'detail',\n",
              "           'eg',\n",
              "           'etc',\n",
              "           'fill',\n",
              "           'find',\n",
              "           'fire',\n",
              "           'found',\n",
              "           'hasnt',\n",
              "           'ie',\n",
              "           'inc',\n",
              "           'interest',\n",
              "           'ltd',\n",
              "           'mill',\n",
              "           'sincere',\n",
              "           'system',\n",
              "           'thick',\n",
              "           'thin',\n",
              "           'un'})"
            ]
          },
          "metadata": {
            "tags": []
          },
          "execution_count": 28
        }
      ]
    },
    {
      "cell_type": "markdown",
      "metadata": {
        "heading_collapsed": true,
        "id": "ROgKyxkAwvTe",
        "colab_type": "text"
      },
      "source": [
        "### When to use these?"
      ]
    },
    {
      "cell_type": "markdown",
      "metadata": {
        "hidden": true,
        "id": "cTXOKUC6wvTj",
        "colab_type": "text"
      },
      "source": [
        "<img src=\"https://github.com/fastai/course-nlp/blob/master/images/skomoroch.png?raw=1\" alt=\"\" style=\"width: 65%\"/>"
      ]
    },
    {
      "cell_type": "markdown",
      "metadata": {
        "hidden": true,
        "id": "mBj5kVl7wvTw",
        "colab_type": "text"
      },
      "source": [
        "These were long considered standard techniques, but they can often **hurt** your performance **if using deep learning**. Stemming, lemmatization, and removing stop words all involve throwing away information.\n",
        "\n",
        "However, they can still be useful when working with simpler models."
      ]
    },
    {
      "cell_type": "markdown",
      "metadata": {
        "heading_collapsed": true,
        "id": "zV-cKDkTwvT3",
        "colab_type": "text"
      },
      "source": [
        "### Another approach: sub-word units"
      ]
    },
    {
      "cell_type": "markdown",
      "metadata": {
        "hidden": true,
        "id": "-gKqG0FbwvT6",
        "colab_type": "text"
      },
      "source": [
        "[SentencePiece](https://github.com/google/sentencepiece) library from Google"
      ]
    },
    {
      "cell_type": "markdown",
      "metadata": {
        "id": "0yazILdCwvUA",
        "colab_type": "text"
      },
      "source": [
        "## Data Processing"
      ]
    },
    {
      "cell_type": "markdown",
      "metadata": {
        "id": "cJb257IIwvUD",
        "colab_type": "text"
      },
      "source": [
        "Next, scikit learn has a method that will extract all the word counts for us.  In the next lesson, we'll learn how to write our own version of CountVectorizer, to see what's happening underneath the hood."
      ]
    },
    {
      "cell_type": "code",
      "metadata": {
        "id": "xPE3XKrIwvUQ",
        "colab_type": "code",
        "colab": {}
      },
      "source": [
        "from sklearn.feature_extraction.text import CountVectorizer, TfidfVectorizer"
      ],
      "execution_count": 0,
      "outputs": []
    },
    {
      "cell_type": "code",
      "metadata": {
        "id": "SQ_KrSIwwvVc",
        "colab_type": "code",
        "colab": {}
      },
      "source": [
        "import nltk\n",
        "# nltk.download('punkt')"
      ],
      "execution_count": 0,
      "outputs": []
    },
    {
      "cell_type": "code",
      "metadata": {
        "id": "0jY5NOChwvh2",
        "colab_type": "code",
        "colab": {}
      },
      "source": [
        "# from nltk import word_tokenize\n",
        "\n",
        "# class LemmaTokenizer(object):\n",
        "#     def __init__(self):\n",
        "#         self.wnl = stem.WordNetLemmatizer()\n",
        "#     def __call__(self, doc):\n",
        "#         return [self.wnl.lemmatize(t) for t in word_tokenize(doc)]"
      ],
      "execution_count": 0,
      "outputs": []
    },
    {
      "cell_type": "code",
      "metadata": {
        "id": "JcBXtdbSwvtP",
        "colab_type": "code",
        "colab": {}
      },
      "source": [
        "vectorizer = CountVectorizer(stop_words='english') #, tokenizer=LemmaTokenizer())"
      ],
      "execution_count": 0,
      "outputs": []
    },
    {
      "cell_type": "code",
      "metadata": {
        "id": "xDOZLXH_wvtg",
        "colab_type": "code",
        "outputId": "077c9e8c-7b04-439e-924b-68073266cf32",
        "colab": {
          "base_uri": "https://localhost:8080/",
          "height": 34
        }
      },
      "source": [
        "vectors = vectorizer.fit_transform(newsgroups_train.data).todense() # (documents, vocab)\n",
        "vectors.shape #, vectors.nnz / vectors.shape[0], row_means.shape"
      ],
      "execution_count": 34,
      "outputs": [
        {
          "output_type": "execute_result",
          "data": {
            "text/plain": [
              "(2034, 26576)"
            ]
          },
          "metadata": {
            "tags": []
          },
          "execution_count": 34
        }
      ]
    },
    {
      "cell_type": "code",
      "metadata": {
        "scrolled": true,
        "id": "iWX3J34Vwvuc",
        "colab_type": "code",
        "outputId": "833b2fe4-7cf5-46a1-dc38-8011ae5dc980",
        "colab": {
          "base_uri": "https://localhost:8080/",
          "height": 34
        }
      },
      "source": [
        "print(len(newsgroups_train.data), vectors.shape)"
      ],
      "execution_count": 35,
      "outputs": [
        {
          "output_type": "stream",
          "text": [
            "2034 (2034, 26576)\n"
          ],
          "name": "stdout"
        }
      ]
    },
    {
      "cell_type": "code",
      "metadata": {
        "id": "K29WgSXLwvyL",
        "colab_type": "code",
        "colab": {}
      },
      "source": [
        "vocab = np.array(vectorizer.get_feature_names())"
      ],
      "execution_count": 0,
      "outputs": []
    },
    {
      "cell_type": "code",
      "metadata": {
        "id": "xJbjXCj8wvyY",
        "colab_type": "code",
        "outputId": "c60ba138-b9a1-4317-914e-db26f5a58b60",
        "colab": {
          "base_uri": "https://localhost:8080/",
          "height": 34
        }
      },
      "source": [
        "vocab.shape"
      ],
      "execution_count": 37,
      "outputs": [
        {
          "output_type": "execute_result",
          "data": {
            "text/plain": [
              "(26576,)"
            ]
          },
          "metadata": {
            "tags": []
          },
          "execution_count": 37
        }
      ]
    },
    {
      "cell_type": "code",
      "metadata": {
        "id": "Z4VzG47iwvyk",
        "colab_type": "code",
        "outputId": "b80805a9-c5fc-4a27-ed75-6c5cbc5bea3e",
        "colab": {
          "base_uri": "https://localhost:8080/",
          "height": 84
        }
      },
      "source": [
        "vocab[7000:7020]"
      ],
      "execution_count": 38,
      "outputs": [
        {
          "output_type": "execute_result",
          "data": {
            "text/plain": [
              "array(['cosmonauts', 'cosmos', 'cosponsored', 'cost', 'costa', 'costar',\n",
              "       'costing', 'costly', 'costruction', 'costs', 'cosy', 'cote',\n",
              "       'couched', 'couldn', 'council', 'councils', 'counsel',\n",
              "       'counselees', 'counselor', 'count'], dtype='<U80')"
            ]
          },
          "metadata": {
            "tags": []
          },
          "execution_count": 38
        }
      ]
    },
    {
      "cell_type": "markdown",
      "metadata": {
        "id": "p6cRwZDkwvzI",
        "colab_type": "text"
      },
      "source": [
        "## Singular Value Decomposition (SVD)"
      ]
    },
    {
      "cell_type": "markdown",
      "metadata": {
        "id": "u1V-v2K7wvzT",
        "colab_type": "text"
      },
      "source": [
        "\"SVD is not nearly as famous as it should be.\" - Gilbert Strang"
      ]
    },
    {
      "cell_type": "markdown",
      "metadata": {
        "id": "NvfgxuEqwvzd",
        "colab_type": "text"
      },
      "source": [
        "We would clearly expect that the words that appear most frequently in one topic would appear less frequently in the other - otherwise that word wouldn't make a good choice to separate out the two topics. Therefore, we expect the topics to be **orthogonal**.\n",
        "\n",
        "The SVD algorithm factorizes a matrix into one matrix with **orthogonal columns** and one with **orthogonal rows** (along with a diagonal matrix, which contains the **relative importance** of each factor).\n",
        "\n",
        "<img src=\"https://github.com/fastai/course-nlp/blob/master/images/svd_fb.png?raw=1\" alt=\"\" style=\"width: 80%\"/>\n",
        "(source: [Facebook Research: Fast Randomized SVD](https://research.fb.com/fast-randomized-svd/))\n",
        "\n",
        "SVD is an **exact decomposition**, since the matrices it creates are big enough to fully cover the original matrix. SVD is extremely widely used in linear algebra, and specifically in data science, including:\n",
        "\n",
        "- semantic analysis\n",
        "- collaborative filtering/recommendations ([winning entry for Netflix Prize](https://datajobs.com/data-science-repo/Recommender-Systems-%5BNetflix%5D.pdf))\n",
        "- calculate Moore-Penrose pseudoinverse\n",
        "- data compression\n",
        "- principal component analysis"
      ]
    },
    {
      "cell_type": "markdown",
      "metadata": {
        "id": "T8jpxIPbwvzi",
        "colab_type": "text"
      },
      "source": [
        "Latent Semantic Analysis (LSA) uses SVD.  You will sometimes hear topic modelling referred to as LSA."
      ]
    },
    {
      "cell_type": "code",
      "metadata": {
        "id": "gJuUyFOswvzl",
        "colab_type": "code",
        "outputId": "6a8e4f16-fb15-49e5-bab0-88169fab199b",
        "colab": {
          "base_uri": "https://localhost:8080/",
          "height": 50
        }
      },
      "source": [
        "%time U, s, Vh = linalg.svd(vectors, full_matrices=False)"
      ],
      "execution_count": 39,
      "outputs": [
        {
          "output_type": "stream",
          "text": [
            "CPU times: user 59.1 s, sys: 2.45 s, total: 1min 1s\n",
            "Wall time: 31.6 s\n"
          ],
          "name": "stdout"
        }
      ]
    },
    {
      "cell_type": "code",
      "metadata": {
        "id": "NzFOvl-5wvz_",
        "colab_type": "code",
        "outputId": "ac9175ef-5324-4aaf-9462-b7fa7ca6f5c4",
        "colab": {
          "base_uri": "https://localhost:8080/",
          "height": 34
        }
      },
      "source": [
        "print(U.shape, s.shape, Vh.shape)"
      ],
      "execution_count": 40,
      "outputs": [
        {
          "output_type": "stream",
          "text": [
            "(2034, 2034) (2034,) (2034, 26576)\n"
          ],
          "name": "stdout"
        }
      ]
    },
    {
      "cell_type": "markdown",
      "metadata": {
        "id": "gFOYIiWCwv9W",
        "colab_type": "text"
      },
      "source": [
        "Confirm this is a decomposition of the input."
      ]
    },
    {
      "cell_type": "code",
      "metadata": {
        "id": "7dLjalIGwv9q",
        "colab_type": "code",
        "outputId": "0caf34ee-59ca-4c70-9645-22b6d8439f07",
        "colab": {
          "base_uri": "https://localhost:8080/",
          "height": 34
        }
      },
      "source": [
        "s[:4]"
      ],
      "execution_count": 41,
      "outputs": [
        {
          "output_type": "execute_result",
          "data": {
            "text/plain": [
              "array([433.92698542, 291.51012741, 240.71137677, 220.00048043])"
            ]
          },
          "metadata": {
            "tags": []
          },
          "execution_count": 41
        }
      ]
    },
    {
      "cell_type": "code",
      "metadata": {
        "id": "GtsNoATSwv-o",
        "colab_type": "code",
        "outputId": "221779f3-209d-4538-b0ee-ead1776f3e95",
        "colab": {
          "base_uri": "https://localhost:8080/",
          "height": 34
        }
      },
      "source": [
        "np.diag(np.diag(s[:4]))"
      ],
      "execution_count": 42,
      "outputs": [
        {
          "output_type": "execute_result",
          "data": {
            "text/plain": [
              "array([433.92698542, 291.51012741, 240.71137677, 220.00048043])"
            ]
          },
          "metadata": {
            "tags": []
          },
          "execution_count": 42
        }
      ]
    },
    {
      "cell_type": "markdown",
      "metadata": {
        "id": "KLb7B8RnwwDT",
        "colab_type": "text"
      },
      "source": [
        "#### Answer"
      ]
    },
    {
      "cell_type": "code",
      "metadata": {
        "id": "R8v6DEwnwwEL",
        "colab_type": "code",
        "outputId": "734f22b8-65ba-404a-a608-d948ce810d23",
        "colab": {}
      },
      "source": [
        "#Exercise: confrim that U, s, Vh is a decomposition of `vectors`\n"
      ],
      "execution_count": 0,
      "outputs": [
        {
          "output_type": "execute_result",
          "data": {
            "text/plain": [
              "True"
            ]
          },
          "metadata": {
            "tags": []
          },
          "execution_count": 132
        }
      ]
    },
    {
      "cell_type": "markdown",
      "metadata": {
        "id": "iKKABu-qwwIj",
        "colab_type": "text"
      },
      "source": [
        "Confirm that U, V are orthonormal"
      ]
    },
    {
      "cell_type": "markdown",
      "metadata": {
        "heading_collapsed": true,
        "id": "tVzCrRYhwwOH",
        "colab_type": "text"
      },
      "source": [
        "#### Answer"
      ]
    },
    {
      "cell_type": "code",
      "metadata": {
        "hidden": true,
        "id": "0UXk9s2zwwRD",
        "colab_type": "code",
        "outputId": "e39f152b-6728-4d0b-d455-460889a887aa",
        "colab": {}
      },
      "source": [
        "#Exercise: Confirm that U, Vh are orthonormal\n"
      ],
      "execution_count": 0,
      "outputs": [
        {
          "output_type": "execute_result",
          "data": {
            "text/plain": [
              "True"
            ]
          },
          "metadata": {
            "tags": []
          },
          "execution_count": 39
        }
      ]
    },
    {
      "cell_type": "markdown",
      "metadata": {
        "heading_collapsed": true,
        "id": "59TvxaaSwwRQ",
        "colab_type": "text"
      },
      "source": [
        "#### Topics"
      ]
    },
    {
      "cell_type": "markdown",
      "metadata": {
        "hidden": true,
        "id": "xccromGHwwRX",
        "colab_type": "text"
      },
      "source": [
        "What can we say about the singular values s?"
      ]
    },
    {
      "cell_type": "code",
      "metadata": {
        "hidden": true,
        "id": "YN_PMwmzwwRa",
        "colab_type": "code",
        "outputId": "10b4af36-3580-41cc-f2d7-d587c644a183",
        "colab": {
          "base_uri": "https://localhost:8080/",
          "height": 265
        }
      },
      "source": [
        "plt.plot(s);"
      ],
      "execution_count": 43,
      "outputs": [
        {
          "output_type": "display_data",
          "data": {
            "image/png": "[encoded data removed]",
            "text/plain": [
              "<Figure size 432x288 with 1 Axes>"
            ]
          },
          "metadata": {
            "tags": []
          }
        }
      ]
    },
    {
      "cell_type": "code",
      "metadata": {
        "hidden": true,
        "id": "m7XNxiQawwWh",
        "colab_type": "code",
        "outputId": "41ca5d53-3310-439a-85b2-06eb61c3ef07",
        "colab": {
          "base_uri": "https://localhost:8080/",
          "height": 282
        }
      },
      "source": [
        "plt.plot(s[:10])"
      ],
      "execution_count": 44,
      "outputs": [
        {
          "output_type": "execute_result",
          "data": {
            "text/plain": [
              "[<matplotlib.lines.Line2D at 0x7fb41ff92f28>]"
            ]
          },
          "metadata": {
            "tags": []
          },
          "execution_count": 44
        },
        {
          "output_type": "display_data",
          "data": {
            "image/png": "[encoded data removed]",
            "text/plain": [
              "<Figure size 432x288 with 1 Axes>"
            ]
          },
          "metadata": {
            "tags": []
          }
        }
      ]
    },
    {
      "cell_type": "code",
      "metadata": {
        "hidden": true,
        "id": "lRZseeu-wwW4",
        "colab_type": "code",
        "colab": {}
      },
      "source": [
        "num_top_words=20\n",
        "\n",
        "def show_topics(a):\n",
        "    top_words = lambda t: [vocab[i] for i in np.argsort(t)[:-num_top_words-1:-1]]\n",
        "    topic_words = ([top_words(t) for t in a])\n",
        "    return [' '.join(t) for t in topic_words]"
      ],
      "execution_count": 0,
      "outputs": []
    },
    {
      "cell_type": "code",
      "metadata": {
        "hidden": true,
        "id": "VjYPS082wwfc",
        "colab_type": "code",
        "outputId": "c6806277-af48-400a-f804-a4e3d4f3b201",
        "colab": {
          "base_uri": "https://localhost:8080/",
          "height": 373
        }
      },
      "source": [
        "show_topics(Vh[:20])"
      ],
      "execution_count": 49,
      "outputs": [
        {
          "output_type": "execute_result",
          "data": {
            "text/plain": [
              "['ditto critus propagandist surname galacticentric kindergarten surreal imaginative salvadorans autotheism ahhh yeager 1909 1883 stunningly spliced mire lbj dubbed mippselled',\n",
              " 'jpeg gif file color quality image jfif format bit version programs viewer quicktime compression free colors images don better zip',\n",
              " 'graphics edu pub mail 128 3d ray ftp send image amiga objects server archie rayshade file com format files tar',\n",
              " 'jesus god matthew people atheists atheism does graphics religious said christian religion believe bible prophecy course just say true edu',\n",
              " 'image data processing analysis software available tools display tool user sun using fax include provides hips set language anonymous functions',\n",
              " 'god atheists atheism religious believe religion argument true atheist example belief universe exist fallacy don exists existence evidence conclusion beliefs',\n",
              " 'space nasa lunar mars probe moon missions probes surface earth planetary orbit mission venus available information solar shuttle mariner pioneer',\n",
              " 'image probe surface lunar mars probes moon orbit mariner mission processing venus missions earth images pioneer tools ray graphics argument',\n",
              " 'argument fallacy conclusion example true ad argumentum premises false valid form inference occurs premise used proposition logic general event larson',\n",
              " 'space larson image theory universe physical nasa material star unified processing shuttle sci motion physicist ray matter include international dewey',\n",
              " 'larson theory universe physical den p2 p3 p1 time unified star motion books physicist light dewey matter speed radius material',\n",
              " 'den p2 p3 p1 radius p12 p23 p13 p4 double theta sqrt n2 n3 n1 pi sin subdivide_tri space nasa',\n",
              " 'judas hanging reply db mr decenso greek death acts say died matthew field did iniquity word _____________________________________________________________________ dave passages hanged',\n",
              " 'atheists atheism religious people religion prophecy matthew messiah course isaiah psalm exist king religions david fallacy prophet sort make beliefs',\n",
              " 'space graphics people like sgi research package society good model don national 3d box year grass display vertex world high',\n",
              " 'telescope word national observatory satellite atheists infrared prefix hst ray ultraviolet acronyms center module astronomical high explorer spectrometer facility vehicle',\n",
              " 'people like nasa don think just time gay want life astronaut make program point ve center right years shuttle earth',\n",
              " 'ra space atheists religious belief atheism edu larson beliefs fallacy news sci posts probes sort religions jesus exist strong don',\n",
              " 'space posting list sci posts response subject god news universe typical evidence edu shuttle probes probe einstein bush year mars',\n",
              " 'astronaut program pilot nasa candidates mission military degree shuttle applicants applications selection civilian flight physical astronauts requirements candidate 20 experience']"
            ]
          },
          "metadata": {
            "tags": []
          },
          "execution_count": 49
        }
      ]
    },
    {
      "cell_type": "markdown",
      "metadata": {
        "hidden": true,
        "id": "UnuQCn4XwxNc",
        "colab_type": "text"
      },
      "source": [
        "We get topics that match the kinds of clusters we would expect! This is despite the fact that this is an **unsupervised algorithm** - which is to say, we never actually told the algorithm how our documents are grouped."
      ]
    },
    {
      "cell_type": "markdown",
      "metadata": {
        "hidden": true,
        "id": "Tw98ZzHLwxNd",
        "colab_type": "text"
      },
      "source": [
        "We will return to SVD in **much more detail** later.  For now, the important takeaway is that we have a tool that allows us to exactly factor a matrix into orthogonal columns and orthogonal rows."
      ]
    },
    {
      "cell_type": "markdown",
      "metadata": {
        "id": "ottc-MUKwxNf",
        "colab_type": "text"
      },
      "source": [
        "## Non-negative Matrix Factorization (NMF)"
      ]
    },
    {
      "cell_type": "markdown",
      "metadata": {
        "id": "AZJucBSiwxNg",
        "colab_type": "text"
      },
      "source": [
        "#### Motivation"
      ]
    },
    {
      "cell_type": "markdown",
      "metadata": {
        "id": "iH_FMbOGwxNi",
        "colab_type": "text"
      },
      "source": [
        "<img src=\"https://github.com/fastai/course-nlp/blob/master/images/face_pca.png?raw=1\" alt=\"PCA on faces\" style=\"width: 80%\"/>\n",
        "\n",
        "(source: [NMF Tutorial](http://perso.telecom-paristech.fr/~essid/teach/NMF_tutorial_ICME-2014.pdf))\n",
        "\n",
        "A more interpretable approach:\n",
        "\n",
        "<img src=\"https://github.com/fastai/course-nlp/blob/master/images/face_outputs.png?raw=1\" alt=\"NMF on Faces\" style=\"width: 80%\"/>\n",
        "\n",
        "(source: [NMF Tutorial](http://perso.telecom-paristech.fr/~essid/teach/NMF_tutorial_ICME-2014.pdf))"
      ]
    },
    {
      "cell_type": "markdown",
      "metadata": {
        "id": "TUr6B6G2wxNk",
        "colab_type": "text"
      },
      "source": [
        "#### Idea"
      ]
    },
    {
      "cell_type": "markdown",
      "metadata": {
        "id": "wRlxCkhXwxNm",
        "colab_type": "text"
      },
      "source": [
        "Rather than constraining our factors to be *orthogonal*, another idea would to constrain them to be *non-negative*. NMF is a factorization of a non-negative data set $V$: $$ V = W H$$ into non-negative matrices $W,\\; H$. Often positive factors will be **more easily interpretable** (and this is the reason behind NMF's popularity). \n",
        "\n",
        "<img src=\"https://github.com/fastai/course-nlp/blob/master/images/face_nmf.png?raw=1\" alt=\"NMF on faces\" style=\"width: 80%\"/>\n",
        "\n",
        "(source: [NMF Tutorial](http://perso.telecom-paristech.fr/~essid/teach/NMF_tutorial_ICME-2014.pdf))\n",
        "\n",
        "Nonnegative matrix factorization (NMF) is a non-exact factorization that factors into one skinny positive matrix and one short positive matrix.  NMF is NP-hard and non-unique.  There are a number of variations on it, created by adding different constraints. "
      ]
    },
    {
      "cell_type": "markdown",
      "metadata": {
        "id": "hSZqVAwNwxRN",
        "colab_type": "text"
      },
      "source": [
        "#### Applications of NMF"
      ]
    },
    {
      "cell_type": "markdown",
      "metadata": {
        "id": "Cre6jxQ0wxRO",
        "colab_type": "text"
      },
      "source": [
        "- [Face Decompositions](http://scikit-learn.org/stable/auto_examples/decomposition/plot_faces_decomposition.html#sphx-glr-auto-examples-decomposition-plot-faces-decomposition-py)\n",
        "- [Collaborative Filtering, eg movie recommendations](http://www.quuxlabs.com/blog/2010/09/matrix-factorization-a-simple-tutorial-and-implementation-in-python/)\n",
        "- [Audio source separation](https://pdfs.semanticscholar.org/cc88/0b24791349df39c5d9b8c352911a0417df34.pdf)\n",
        "- [Chemistry](http://ieeexplore.ieee.org/document/1532909/)\n",
        "- [Bioinformatics](https://bmcbioinformatics.biomedcentral.com/articles/10.1186/s12859-015-0485-4) and [Gene Expression](https://www.ncbi.nlm.nih.gov/pmc/articles/PMC2623306/)\n",
        "- Topic Modeling (our problem!)\n",
        "\n",
        "<img src=\"https://github.com/fastai/course-nlp/blob/master/images/nmf_doc.png?raw=1\" alt=\"NMF on documents\" style=\"width: 80%\"/>\n",
        "\n",
        "(source: [NMF Tutorial](http://perso.telecom-paristech.fr/~essid/teach/NMF_tutorial_ICME-2014.pdf))"
      ]
    },
    {
      "cell_type": "markdown",
      "metadata": {
        "id": "H4_mHhhewxRP",
        "colab_type": "text"
      },
      "source": [
        "**More Reading**:\n",
        "\n",
        "- [The Why and How of Nonnegative Matrix Factorization](https://arxiv.org/pdf/1401.5226.pdf)"
      ]
    },
    {
      "cell_type": "markdown",
      "metadata": {
        "id": "pmIvsqcxwxRP",
        "colab_type": "text"
      },
      "source": [
        "### NMF from sklearn"
      ]
    },
    {
      "cell_type": "markdown",
      "metadata": {
        "id": "a-jsKAZJwxRS",
        "colab_type": "text"
      },
      "source": [
        "We will use [scikit-learn's implementation of NMF](http://scikit-learn.org/stable/modules/generated/sklearn.decomposition.NMF.html):"
      ]
    },
    {
      "cell_type": "code",
      "metadata": {
        "id": "tOIJW2JtwxRT",
        "colab_type": "code",
        "colab": {}
      },
      "source": [
        "m,n=vectors.shape\n",
        "d=5  # num topics"
      ],
      "execution_count": 0,
      "outputs": []
    },
    {
      "cell_type": "code",
      "metadata": {
        "id": "haAJ14PjwxRW",
        "colab_type": "code",
        "colab": {}
      },
      "source": [
        "clf = decomposition.NMF(n_components=d, random_state=1)\n",
        "\n",
        "W1 = clf.fit_transform(vectors)\n",
        "H1 = clf.components_"
      ],
      "execution_count": 0,
      "outputs": []
    },
    {
      "cell_type": "code",
      "metadata": {
        "id": "829NAX8qwxkS",
        "colab_type": "code",
        "outputId": "b5c25500-0e53-40d0-c0be-a9d680d156e1",
        "colab": {
          "base_uri": "https://localhost:8080/",
          "height": 101
        }
      },
      "source": [
        "show_topics(H1)"
      ],
      "execution_count": 52,
      "outputs": [
        {
          "output_type": "execute_result",
          "data": {
            "text/plain": [
              "['jpeg image gif file color images format quality version files free bit use programs jfif software available don display viewer',\n",
              " 'edu graphics pub mail 128 ray ftp send 3d com server objects data amiga files archie available file archive rayshade',\n",
              " 'space launch satellite nasa commercial satellites year market data earth mission lunar orbit program shuttle new technology national 10 mars',\n",
              " 'jesus god people matthew atheists does atheism said just believe religious religion christian say true bible know course prophecy don',\n",
              " 'image data available software processing ftp edu analysis images display package user tools program sun use fax tool using set']"
            ]
          },
          "metadata": {
            "tags": []
          },
          "execution_count": 52
        }
      ]
    },
    {
      "cell_type": "markdown",
      "metadata": {
        "id": "rs8Y2Ym1wxk0",
        "colab_type": "text"
      },
      "source": [
        "### TF-IDF"
      ]
    },
    {
      "cell_type": "markdown",
      "metadata": {
        "id": "p3hJK4r0wxk3",
        "colab_type": "text"
      },
      "source": [
        "[Topic Frequency-Inverse Document Frequency](http://www.tfidf.com/) (TF-IDF) is a way to normalize term counts by taking into account how often they appear in a document, how long the document is, and how commmon/rare the term is.\n",
        "\n",
        "TF = (# occurrences of term t in document) / (# of words in documents)\n",
        "\n",
        "IDF = log(# of documents / # documents with term t in it)"
      ]
    },
    {
      "cell_type": "code",
      "metadata": {
        "id": "T6K9LlgVwxk5",
        "colab_type": "code",
        "colab": {}
      },
      "source": [
        "vectorizer_tfidf = TfidfVectorizer(stop_words='english')\n",
        "vectors_tfidf = vectorizer_tfidf.fit_transform(newsgroups_train.data) # (documents, vocab)"
      ],
      "execution_count": 0,
      "outputs": []
    },
    {
      "cell_type": "code",
      "metadata": {
        "id": "_SSeT1QlwxlA",
        "colab_type": "code",
        "outputId": "9e14aa0f-4b81-4b4b-8164-90fe928541e9",
        "colab": {
          "base_uri": "https://localhost:8080/",
          "height": 205
        }
      },
      "source": [
        "newsgroups_train.data[10:20]"
      ],
      "execution_count": 54,
      "outputs": [
        {
          "output_type": "execute_result",
          "data": {
            "text/plain": [
              "[\"a\\n\\nWhat about positional uncertainties in S-L 1993e?   I assume we know where\\nand what Galileo is doing within a few meters.   But without the\\nHGA,  don't we have to have some pretty good ideas, of where to look\\nbefore imaging?  If the HGA was working,  they could slew around\\nin near real time (Less speed of light delay).  But when they were\\nimaging toutatis????  didn't someone have to get lucky on a guess to\\nfind the first images?   \\n\\nAlso, I imagine S-L 1993e will be mostly a visual image.  so how will\\nthat affect the other imaging missions.  with the LGA,  there is a real\\ntight allocation of bandwidth.   It may be premature to hope for answers,\\nbut I thought i'd throw it on the floor.\",\n",
              " \"I would like to program Tseng ET4000 to nonstandard 1024x768 mode by\\nswitching to standard 1024x768 mode using BIOS and than changing some\\ntiming details (0x3D4 registers 0x00-0x1F) but I don't know how to\\nselect 36 MHz pixel clock I need. The BIOS function selects 40 MHz.\\n\\nIs there anybody who knows where to obtain technical info about this.\\nI am also interested in any other technical information about Tseng ET4000\\nand Trident 8900 and 9000 chipsets.\\n\\n\\t\\t\\tthanks very much\",\n",
              " 'In-Reply-To: <20APR199312262902@rigel.tamu.edu> lmp8913@rigel.tamu.edu (PRESTON, LISA M)',\n",
              " \"\\n\\n\\n\\nI'm not sure, but it almost sounds like they can't figure out where the \\n_nucleus_ is within the coma. If they're off by a couple hundred\\nmiles, well, you can imagine the rest...\\n\",\n",
              " \"Hello,\\n     I am looking to add voice input capability to a user interface I am\\ndeveloping on an HP730 (UNIX) workstation.  I would greatly appreciate \\ninformation anyone would care to offer about voice input systems that are \\neasily accessible from the UNIX environment. \\n\\n     The names or adresses of applicable vendors, as well as any \\nexperiences you have had with specific systems, would be very helpful.\\n\\n     Please respond via email; I will post a summary if there is \\nsufficient interest.\\n\\n\\nThanks,\\nKen\\n\\n\\nP.S.  I have found several impressive systems for IBM PC's, but I would \\nlike to avoid the hassle of purchasing and maintaining a separate PC if \\nat all possible.\\n\\n-------------------------------------------------------------------------------\\nKen Hinckley (kph2q@virginia.edu)\\nUniversity of Virginia \\nNeurosurgical Visualization Laboratory\",\n",
              " '\\nIt was a test of the first reusable tool.\\n\\n\\nPointy so they can find them or so they will stick into their pants better, and\\nbe closer to their brains?',\n",
              " '\\nSize of armies, duration, numbers of casualties both absolute and as a\\npercentage of those involved, geographical area and numbers of countries\\ntoo, are all measures of size.  In this case I\\'d say the relevant\\nstatistic would be the number of combatants (total troops) compared to\\ntotal casualties from among the total civilian population in the\\naffected geographical area.\\n\\n\\nVietnam and Korea might make good comparisons.\\n\\n\\nWestern news in general, but in particular the American \"mass media\":\\nCBS, NBC, ABC, etc.  The general tone of the news during the whole\\nwar was one of \"those poor, poor Iraqis\" along with \"look how precisely\\nthis cruise missile blew this building to bits\".\\n\\n\\nI agree.\\n\\n\\nPerhaps so.  And maybe the atomic bomb was a mistake too.  But that\\'s easy\\nto say from our \"enlightened\" viewpoint here in the 90\\'s, right?  Back\\nthen, it was *all-out* war, and Germany and Japan had to be squashed.\\nAfter all, a million or more British had already died, hundreds of \\nthousands of French, a couple hundread thousand or so Americans, and \\nmillions of Russians, not to mention a few million Jews, Poles, and \\nother people of slavic descent in German concentration camps.  All \\nthings considered, the fire-bombings and the atomic bomb were\\nessential (and therefore justified) in bringing the war to a quick\\nend to avoid even greater allied losses.\\n\\nI, for one, don\\'t regret it.\\n\\n\\nSure.  And it\\'s the people who suffer because of them.  All the more\\nreason to depose these \"entrenched political rulers operating in their\\nown selfish interests\"!  Or do you mean that this applies to the allies\\nas well??\\n\\n\\nI make no claim or effort to justify the misguided foreign policy of the\\nWest before the war.  It is evident that the West, especially America,\\nmisjudged Hussein drastically.  But once Hussein invaded Kuwait and \\nthreatened to militarily corner a significant portion of the world\\'s\\noil supply, he had to be stopped.  Sure the war could have been\\nprevented by judicious and concerted effort on the part of the West\\nbefore Hussein invaded Kuwait, but it is still *Hussein* who is\\nresponsible for his decision to invade.  And once he did so, a\\nstrong response from the West was required.\\n\\n\\nWell, it\\'s not very \"loving\" to allow a Hussein or a Hitler to gobble up\\nnearby countries and keep them.  Or to allow them to continue with mass\\nslaughter of certain peoples under their dominion.  So, I\\'d have to\\nsay yes, stopping Hussein was the most \"loving\" thing to do for the\\nmost people involved once he set his mind on military conquest.\\n\\nI mentioned it.\\n\\nIf we hadn\\'t intervened, allowing Hussein to keep Kuwait, then it would\\nhave been appeasement.  It is precisely the lessons the world learned\\nin WW2 that motivated the Western alliance to war.  Letting Hitler take\\nAustria and Czechoslavkia did not stop WW2 from happening, and letting\\nHussein keep Kuwait would not have stopped an eventual Gulf War to\\nprotect Saudi Arabia.\\n\\n\\nSure.  What was truly unfortunate was that they followed Hitler in\\nhis grandiose quest for a \"Thousand Year Reich\".  The consequences\\nstemmed from that.\\n\\nWhat should I say about them?  Anything in particular?\\n\\n\\n\\nSo?  It was the *policemen* on trial not Rodney King!!  And under American\\nlaw they deserved a jury of *their* peers!  If there had been black\\nofficers involved, I\\'m sure their would have been black jurors too.\\nThis point (of allegedly racial motivations) is really shallow.\\n\\n\\nSo?  It\\'s \"hard to imagine\"?  So when has Argument from Incredulity\\ngained acceptance from the revered author of \"Constructing a Logical\\nArgument\"?  Can we expect another revision soon??  :)  (Just kidding.)\\n\\n\\nI have to admit that I wonder this too.  But *neither* the prosecution\\nnor the defense is talking.  So one cannot conclude either way due to\\nthe silence of the principals.  \\n\\n\\nOK.  It certainly seemed to me that there was excessive force involved.\\nAnd frankly, the original \"not guilty\" verdict baffled me too.  But then\\nI learned that the prosecution in the first case did not try to convict\\non a charge of excessive force or simple assault which they probably\\nwould have won, they tried to get a conviction on a charge of aggravated\\nassault with intent to inflict serious bodily harm.  A charge, which\\nnews commentators said, was akin to attempted murder under California\\nlaw.  Based on what the prosecution was asking for, it\\'s evident that \\nthe first jury decided that the officers were \"not guilty\".  Note, \\nnot \"not guilty\" of doing wrong, but \"not guilty\" of aggravated assault \\nwith the *intent* of inflicting serious bodily harm.  The seeds of the \\nprosecutions defeat were in their own overconfidence in obtaining a \\nverdict such that they went for the most extreme charge they could.\\n\\nIf the facts as the news commentators presented them are true, then\\nI feel the \"not guilty\" verdict was a reasonable one.\\n\\n\\nThanks mathew, I like the quote.  Pretty funny actually.  (I\\'m a \\nMonty Python fan, you know.  Kind of seems in that vein.)\\n\\nOf course, oversimplifying any moral argument can make it seem\\ncontradictory.  But then, you know that already.  \\n\\nRegards,',\n",
              " \"<stuff deleted>\\n\\nYou mean like: seconds, minutes, hours, days, months, years. . .  :-)\\n\\nRemember,  the Fahrenheit temperature scale is also a centigrade scale.  Some\\nrevisionists tell the history something like this:  The coldest point in a\\nparticular Russian winter was marked on the thermometer as was the body\\ntemperature of a volunteer (turns out he was sick, but you can't win 'em all).\\nThen the space in between the marks on the thermometer was then divided into\\nhundredths.\\n\\t\\t\\t\\t\\t\\t\\t\\t:-)\\n\\nFWIW,\\n\\nDoug Page\\n\",\n",
              " \"\\nIt wasn't especially prominent, as I recall.  However, quite possibly it's\\nno longer on display; NASM, like most museums, has much more stuff than it\\ncan display at once, and does rotate the displays occasionally.\",\n",
              " \"DM> Fact or rumor....?  Madalyn Murray O'Hare an atheist who eliminated the\\nDM> use of the bible reading and prayer in public schools 15 years ago is now\\nDM> going to appear before the FCC with a petition to stop the reading of the\\nDM> Gospel on the airways of America.  And she is also campaigning to remove\\nDM> Christmas programs, songs, etc from the public schools.  If it is true\\nDM> then mail to Federal Communications Commission 1919 H Street Washington DC\\nDM> 20054 expressing your opposition to her request.  Reference Petition number\\n\\nDM> 2493.\\n\\nFalse.  This story has been going around for years.  There's not a drop of\\ntruth.  Note that I don't care for O'Hare (O'Hair?) myself, but this\\nis one thing she's not guilty of.\\n\"]"
            ]
          },
          "metadata": {
            "tags": []
          },
          "execution_count": 54
        }
      ]
    },
    {
      "cell_type": "code",
      "metadata": {
        "id": "sWSglkx1wxom",
        "colab_type": "code",
        "colab": {}
      },
      "source": [
        "W1 = clf.fit_transform(vectors_tfidf)\n",
        "H1 = clf.components_"
      ],
      "execution_count": 0,
      "outputs": []
    },
    {
      "cell_type": "code",
      "metadata": {
        "id": "YgpRfNulwxpr",
        "colab_type": "code",
        "outputId": "a6cdd4c7-29b6-4f6a-8576-d91fef5e6932",
        "colab": {
          "base_uri": "https://localhost:8080/",
          "height": 101
        }
      },
      "source": [
        "show_topics(H1)"
      ],
      "execution_count": 56,
      "outputs": [
        {
          "output_type": "execute_result",
          "data": {
            "text/plain": [
              "['people don think just like objective say morality know moral religion did ve good time way make really right life',\n",
              " 'graphics thanks files image file program windows know format ftp software help looking need advance hi mail color gif does',\n",
              " 'space nasa launch shuttle orbit moon lunar earth station data gov satellite cost sci mission year research program center dc',\n",
              " 'ico bobbe tek beauchaine bronx manhattan sank queens vice blew bob sea stay com away said sig ignorance believe really',\n",
              " 'god jesus bible believe christian atheism does belief faith christians christ exist say satan existence eternal law ra tells angels']"
            ]
          },
          "metadata": {
            "tags": []
          },
          "execution_count": 56
        }
      ]
    },
    {
      "cell_type": "code",
      "metadata": {
        "id": "6W5AMiG9wxr1",
        "colab_type": "code",
        "outputId": "5eef4a3c-0132-441d-f766-8c41576bdec5",
        "colab": {
          "base_uri": "https://localhost:8080/",
          "height": 282
        }
      },
      "source": [
        "plt.plot(clf.components_[0])"
      ],
      "execution_count": 57,
      "outputs": [
        {
          "output_type": "execute_result",
          "data": {
            "text/plain": [
              "[<matplotlib.lines.Line2D at 0x7fb41cedaac8>]"
            ]
          },
          "metadata": {
            "tags": []
          },
          "execution_count": 57
        },
        {
          "output_type": "display_data",
          "data": {
            "image/png": "[encoded data removed]",
            "text/plain": [
              "<Figure size 432x288 with 1 Axes>"
            ]
          },
          "metadata": {
            "tags": []
          }
        }
      ]
    },
    {
      "cell_type": "code",
      "metadata": {
        "id": "VT2vjrHOwxsS",
        "colab_type": "code",
        "outputId": "06a61171-b7d8-4f41-f902-2a900e616cb4",
        "colab": {
          "base_uri": "https://localhost:8080/",
          "height": 34
        }
      },
      "source": [
        "clf.reconstruction_err_"
      ],
      "execution_count": 58,
      "outputs": [
        {
          "output_type": "execute_result",
          "data": {
            "text/plain": [
              "43.712926057952785"
            ]
          },
          "metadata": {
            "tags": []
          },
          "execution_count": 58
        }
      ]
    },
    {
      "cell_type": "markdown",
      "metadata": {
        "id": "ANan3vkkwxsf",
        "colab_type": "text"
      },
      "source": [
        "### NMF in summary"
      ]
    },
    {
      "cell_type": "markdown",
      "metadata": {
        "id": "wrH0wCMOwxsj",
        "colab_type": "text"
      },
      "source": [
        "Benefits: Fast and easy to use!\n",
        "\n",
        "Downsides: took years of research and expertise to create"
      ]
    },
    {
      "cell_type": "markdown",
      "metadata": {
        "id": "EkOb3oGMwxtH",
        "colab_type": "text"
      },
      "source": [
        "Notes:\n",
        "- For NMF, matrix needs to be at least as tall as it is wide, or we get an error with fit_transform\n",
        "- Can use df_min in CountVectorizer to only look at words that were in at least k of the split texts"
      ]
    },
    {
      "cell_type": "markdown",
      "metadata": {
        "id": "z2XBtJW2wxtR",
        "colab_type": "text"
      },
      "source": [
        "## Truncated SVD"
      ]
    },
    {
      "cell_type": "markdown",
      "metadata": {
        "id": "ZHtFM4eswxtg",
        "colab_type": "text"
      },
      "source": [
        "We saved a lot of time when we calculated NMF by only calculating the subset of columns we were interested in. Is there a way to get this benefit with SVD? Yes there is! It's called truncated SVD.  We are just interested in the vectors corresponding to the **largest** singular values."
      ]
    },
    {
      "cell_type": "markdown",
      "metadata": {
        "id": "3uEMxqZwwxtm",
        "colab_type": "text"
      },
      "source": [
        "<img src=\"https://github.com/fastai/course-nlp/blob/master/images/svd_fb.png?raw=1\" alt=\"\" style=\"width: 80%\"/>\n",
        "\n",
        "(source: [Facebook Research: Fast Randomized SVD](https://research.fb.com/fast-randomized-svd/))"
      ]
    },
    {
      "cell_type": "markdown",
      "metadata": {
        "id": "7nDsrfjpwxtt",
        "colab_type": "text"
      },
      "source": [
        "#### Shortcomings of classical algorithms for decomposition:"
      ]
    },
    {
      "cell_type": "markdown",
      "metadata": {
        "id": "nsQVdmq3wxvQ",
        "colab_type": "text"
      },
      "source": [
        "- Matrices are \"stupendously big\"\n",
        "- Data are often **missing or inaccurate**.  Why spend extra computational resources when imprecision of input limits precision of the output?\n",
        "- **Data transfer** now plays a major role in time of algorithms.  Techniques the require fewer passes over the data may be substantially faster, even if they require more flops (flops = floating point operations).\n",
        "- Important to take advantage of **GPUs**.\n",
        "\n",
        "(source: [Halko](https://arxiv.org/abs/0909.4061))"
      ]
    },
    {
      "cell_type": "markdown",
      "metadata": {
        "id": "PwmKqCUPwxwD",
        "colab_type": "text"
      },
      "source": [
        "#### Advantages of randomized algorithms:"
      ]
    },
    {
      "cell_type": "markdown",
      "metadata": {
        "id": "xy_frqRuwxwt",
        "colab_type": "text"
      },
      "source": [
        "- inherently stable\n",
        "- performance guarantees do not depend on subtle spectral properties\n",
        "- needed matrix-vector products can be done in parallel\n",
        "\n",
        "(source: [Halko](https://arxiv.org/abs/0909.4061))"
      ]
    },
    {
      "cell_type": "markdown",
      "metadata": {
        "id": "2HkRZ4-Uwxw1",
        "colab_type": "text"
      },
      "source": [
        "### Timing comparison"
      ]
    },
    {
      "cell_type": "code",
      "metadata": {
        "id": "Yj9KMwaSwxw_",
        "colab_type": "code",
        "outputId": "703baccd-7694-441e-e854-2ba7c1f528d9",
        "colab": {
          "base_uri": "https://localhost:8080/",
          "height": 50
        }
      },
      "source": [
        "%time u, s, v = np.linalg.svd(vectors, full_matrices=False)"
      ],
      "execution_count": 59,
      "outputs": [
        {
          "output_type": "stream",
          "text": [
            "CPU times: user 1min 1s, sys: 3.05 s, total: 1min 5s\n",
            "Wall time: 33.2 s\n"
          ],
          "name": "stdout"
        }
      ]
    },
    {
      "cell_type": "code",
      "metadata": {
        "id": "-JtH4bgaTYRH",
        "colab_type": "code",
        "colab": {
          "base_uri": "https://localhost:8080/",
          "height": 168
        },
        "outputId": "f736a765-2f69-4366-f4fd-7098099e18d7"
      },
      "source": [
        "pip install fbpca"
      ],
      "execution_count": 61,
      "outputs": [
        {
          "output_type": "stream",
          "text": [
            "Collecting fbpca\n",
            "  Downloading https://files.pythonhosted.org/packages/a7/a5/2085d0645a4bb4f0b606251b0b7466c61326e4a471d445c1c3761a2d07bc/fbpca-1.0.tar.gz\n",
            "Building wheels for collected packages: fbpca\n",
            "  Building wheel for fbpca (setup.py) ... \u001b[?25l\u001b[?25hdone\n",
            "  Created wheel for fbpca: filename=fbpca-1.0-cp36-none-any.whl size=11376 sha256=fe1c9631ff4a3ea8b60566c4b4c369d6fd4ec8b338c67ba8a32592c2cf3c69d4\n",
            "  Stored in directory: /root/.cache/pip/wheels/53/a2/dd/9b66cf53dbc58cec1e613d216689e5fa946d3e7805c30f60dc\n",
            "Successfully built fbpca\n",
            "Installing collected packages: fbpca\n",
            "Successfully installed fbpca-1.0\n"
          ],
          "name": "stdout"
        }
      ]
    },
    {
      "cell_type": "code",
      "metadata": {
        "id": "8sgnXSRIwxxS",
        "colab_type": "code",
        "colab": {}
      },
      "source": [
        "from sklearn import decomposition\n",
        "import fbpca"
      ],
      "execution_count": 0,
      "outputs": []
    },
    {
      "cell_type": "code",
      "metadata": {
        "id": "wpScY8_hwxzX",
        "colab_type": "code",
        "outputId": "6cbd2600-2b92-42c2-de47-4d78a2631cb4",
        "colab": {
          "base_uri": "https://localhost:8080/",
          "height": 50
        }
      },
      "source": [
        "%time u, s, v = decomposition.randomized_svd(vectors, 10)"
      ],
      "execution_count": 63,
      "outputs": [
        {
          "output_type": "stream",
          "text": [
            "CPU times: user 9.8 s, sys: 1.49 s, total: 11.3 s\n",
            "Wall time: 7.85 s\n"
          ],
          "name": "stdout"
        }
      ]
    },
    {
      "cell_type": "markdown",
      "metadata": {
        "id": "RYbwX3NAwx0H",
        "colab_type": "text"
      },
      "source": [
        "Randomized SVD from Facebook's library fbpca:"
      ]
    },
    {
      "cell_type": "code",
      "metadata": {
        "id": "cOAAlgz_wx0T",
        "colab_type": "code",
        "outputId": "9d980ee0-003b-40b1-8473-30ccd7a670e1",
        "colab": {
          "base_uri": "https://localhost:8080/",
          "height": 50
        }
      },
      "source": [
        "%time u, s, v = fbpca.pca(vectors, 10)"
      ],
      "execution_count": 64,
      "outputs": [
        {
          "output_type": "stream",
          "text": [
            "CPU times: user 2.11 s, sys: 470 ms, total: 2.58 s\n",
            "Wall time: 1.4 s\n"
          ],
          "name": "stdout"
        }
      ]
    },
    {
      "cell_type": "markdown",
      "metadata": {
        "id": "ig0dIBmQwx0e",
        "colab_type": "text"
      },
      "source": [
        "For more on randomized SVD, check out my [PyBay 2017 talk](https://www.youtube.com/watch?v=7i6kBz1kZ-A&list=PLtmWHNX-gukLQlMvtRJ19s7-8MrnRV6h6&index=7).\n",
        "\n",
        "For significantly more on randomized SVD, check out the [Computational Linear Algebra course](https://github.com/fastai/numerical-linear-algebra)."
      ]
    },
    {
      "cell_type": "markdown",
      "metadata": {
        "id": "YVqfYWYBwx0l",
        "colab_type": "text"
      },
      "source": [
        "## End"
      ]
    }
  ]
}